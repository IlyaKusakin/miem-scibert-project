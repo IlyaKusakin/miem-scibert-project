{
  "cells": [
    {
      "cell_type": "code",
      "source": [
        "!pip install transformers"
      ],
      "metadata": {
        "id": "mdGQbXBBhT4Y",
        "colab": {
          "base_uri": "https://localhost:8080/"
        },
        "outputId": "fa9c96a8-0c0f-4bbc-e3fd-9f70eefa846a"
      },
      "id": "mdGQbXBBhT4Y",
      "execution_count": 3,
      "outputs": [
        {
          "output_type": "stream",
          "name": "stdout",
          "text": [
            "Requirement already satisfied: zipp>=0.5 in /usr/local/lib/python3.7/dist-packages (from importlib-metadata->transformers) (3.8.0)\n",
            "Requirement already satisfied: chardet<4,>=3.0.2 in /usr/local/lib/python3.7/dist-packages (from requests->transformers) (3.0.4)\n",
            "Requirement already satisfied: urllib3!=1.25.0,!=1.25.1,<1.26,>=1.21.1 in /usr/local/lib/python3.7/dist-packages (from requests->transformers) (1.24.3)\n",
            "Requirement already satisfied: certifi>=2017.4.17 in /usr/local/lib/python3.7/dist-packages (from requests->transformers) (2022.5.18.1)\n",
            "Requirement already satisfied: idna<3,>=2.5 in /usr/local/lib/python3.7/dist-packages (from requests->transformers) (2.10)\n"
          ]
        }
      ]
    },
    {
      "cell_type": "markdown",
      "source": [
        "#### Tokenizer and linguistic model download"
      ],
      "metadata": {
        "id": "P8QU7GXH9jCq"
      },
      "id": "P8QU7GXH9jCq"
    },
    {
      "cell_type": "code",
      "source": [
        "from transformers import BertTokenizer, BertForMaskedLM\n",
        "import torch\n",
        "\n",
        "tokenizer = BertTokenizer.from_pretrained('miemBertProject/miem-scibert-linguistic')\n",
        "model = BertForMaskedLM.from_pretrained('miemBertProject/miem-scibert-linguistic')"
      ],
      "metadata": {
        "id": "1SeYsVqJ9rFV"
      },
      "id": "1SeYsVqJ9rFV",
      "execution_count": 4,
      "outputs": []
    },
    {
      "cell_type": "markdown",
      "source": [
        "#### Set input sentence for model and mask token #11 (\"риса\")"
      ],
      "metadata": {
        "id": "Cai0GHVA9sBw"
      },
      "id": "Cai0GHVA9sBw"
    },
    {
      "cell_type": "code",
      "source": [
        "input_ids = tokenizer(\"Сравнительное влияние климата и обновления культивации на урожайность риса в Китае\", return_tensors=\"pt\")[\"input_ids\"]\n",
        "idx_to_predict=11\n",
        "input_ids[0,idx_to_predict]=tokenizer.mask_token_id"
      ],
      "metadata": {
        "id": "DoPMz9Ck-MIn"
      },
      "id": "DoPMz9Ck-MIn",
      "execution_count": 5,
      "outputs": []
    },
    {
      "cell_type": "markdown",
      "source": [
        "####Pass through the model to predict masked token"
      ],
      "metadata": {
        "id": "t6fqpuZa-ONu"
      },
      "id": "t6fqpuZa-ONu"
    },
    {
      "cell_type": "code",
      "source": [
        "with torch.no_grad():\n",
        "    outputs = model(input_ids, labels=input_ids)\n",
        "    loss, prediction_scores = outputs[:2]\n",
        "predicted_index = torch.argmax(prediction_scores[0][idx_to_predict]).item()\n",
        "predicted_token = tokenizer.convert_ids_to_tokens([predicted_index])"
      ],
      "metadata": {
        "id": "eyNLcSKGg3wl"
      },
      "id": "eyNLcSKGg3wl",
      "execution_count": 6,
      "outputs": []
    },
    {
      "cell_type": "markdown",
      "source": [
        "####Predicted token"
      ],
      "metadata": {
        "id": "tNOPPdnA-dIs"
      },
      "id": "tNOPPdnA-dIs"
    },
    {
      "cell_type": "code",
      "source": [
        "predicted_token,tokenizer.convert_ids_to_tokens([tokenizer(\"Сравнительное влияние климата и обновления культивации на урожайность риса в Китае\", return_tensors=\"pt\")[\"input_ids\"][0,idx_to_predict]])"
      ],
      "metadata": {
        "id": "Al-ZKkAphuMd",
        "outputId": "c3e2df9e-4f59-4b12-a609-c53c3047ad2a",
        "colab": {
          "base_uri": "https://localhost:8080/"
        }
      },
      "id": "Al-ZKkAphuMd",
      "execution_count": 7,
      "outputs": [
        {
          "output_type": "execute_result",
          "data": {
            "text/plain": [
              "(['риса'], ['риса'])"
            ]
          },
          "metadata": {},
          "execution_count": 7
        }
      ]
    },
    {
      "cell_type": "markdown",
      "source": [
        "####Get text embedding via miem-scibert-linguistic"
      ],
      "metadata": {
        "id": "zEzG7H4_-nXz"
      },
      "id": "zEzG7H4_-nXz"
    },
    {
      "cell_type": "code",
      "execution_count": 8,
      "id": "4ff04f6b",
      "metadata": {
        "id": "4ff04f6b",
        "outputId": "6641b371-f930-4891-96e5-a415eda62c47",
        "colab": {
          "base_uri": "https://localhost:8080/"
        }
      },
      "outputs": [
        {
          "output_type": "stream",
          "name": "stderr",
          "text": [
            "Some weights of the model checkpoint at miemBertProject/miem-scibert-linguistic were not used when initializing BertModel: ['cls.predictions.decoder.bias', 'cls.predictions.transform.dense.bias', 'cls.predictions.decoder.weight', 'cls.predictions.transform.LayerNorm.bias', 'cls.predictions.bias', 'cls.predictions.transform.dense.weight', 'cls.predictions.transform.LayerNorm.weight']\n",
            "- This IS expected if you are initializing BertModel from the checkpoint of a model trained on another task or with another architecture (e.g. initializing a BertForSequenceClassification model from a BertForPreTraining model).\n",
            "- This IS NOT expected if you are initializing BertModel from the checkpoint of a model that you expect to be exactly identical (initializing a BertForSequenceClassification model from a BertForSequenceClassification model).\n",
            "Some weights of BertModel were not initialized from the model checkpoint at miemBertProject/miem-scibert-linguistic and are newly initialized: ['bert.pooler.dense.bias', 'bert.pooler.dense.weight']\n",
            "You should probably TRAIN this model on a down-stream task to be able to use it for predictions and inference.\n"
          ]
        }
      ],
      "source": [
        "from transformers import BertModel\n",
        "model=BertModel.from_pretrained('miemBertProject/miem-scibert-linguistic')\n",
        "model.eval()\n",
        "input_ids = tokenizer(\"Сравнительное влияние климата и обновления культивации на урожайность риса в Китае\", return_tensors=\"pt\")[\"input_ids\"]\n",
        "outputs=model(input_ids)"
      ]
    },
    {
      "cell_type": "code",
      "execution_count": 9,
      "id": "a1d906fb",
      "metadata": {
        "id": "a1d906fb",
        "outputId": "d88127fb-2c28-41aa-eb9a-e178dd04f7dd",
        "colab": {
          "base_uri": "https://localhost:8080/"
        }
      },
      "outputs": [
        {
          "output_type": "execute_result",
          "data": {
            "text/plain": [
              "(torch.Size([1, 15, 768]), torch.Size([1, 768]))"
            ]
          },
          "metadata": {},
          "execution_count": 9
        }
      ],
      "source": [
        "outputs[0].shape, outputs[1].shape"
      ]
    },
    {
      "cell_type": "code",
      "source": [
        "outputs[0]~[Number of texts in batch; number of tokens in text; hidden size=768] Tokens embeddings\n",
        "outputs[1]~[Number of texts in batch; hidden size=768] Text embedding "
      ],
      "metadata": {
        "id": "4vV-ChI0-436"
      },
      "id": "4vV-ChI0-436",
      "execution_count": null,
      "outputs": []
    },
    {
      "cell_type": "code",
      "execution_count": null,
      "id": "b43361a1",
      "metadata": {
        "id": "b43361a1"
      },
      "outputs": [],
      "source": [
        "outputs[0]~[Количество текстов в баче; Количество токенов в тексте; Размер скрытого пространства=768] Эмбеддинги токенов\n",
        "outputs[1]~[Количество текстов в баче; Размер скрытого пространства=768] Эмбеддинг текста"
      ]
    },
    {
      "cell_type": "markdown",
      "source": [
        "#### Dataset example for RGNTI-classification task"
      ],
      "metadata": {
        "id": "w-vxNcWJBirD"
      },
      "id": "w-vxNcWJBirD"
    },
    {
      "cell_type": "code",
      "source": [
        "import pandas as pd\n",
        "\n",
        "df = pd.read_csv('subsample_texts_short.csv') #you should upload csv-file to env in case colab usage \n",
        "df.head()"
      ],
      "metadata": {
        "colab": {
          "base_uri": "https://localhost:8080/",
          "height": 354
        },
        "id": "_5egn_F-Af2U",
        "outputId": "e78e8fec-8f5a-4d45-c8ad-d15e212d290d"
      },
      "id": "_5egn_F-Af2U",
      "execution_count": 14,
      "outputs": [
        {
          "output_type": "execute_result",
          "data": {
            "text/plain": [
              "   Unnamed: 0  Unnamed: 0.1  \\\n",
              "0           0        301268   \n",
              "1           1        209251   \n",
              "2           2        278388   \n",
              "3           3        301787   \n",
              "4           4        255697   \n",
              "\n",
              "                                               title  \\\n",
              "0  Супрамолекулярные системы на основе полиэтилен...   \n",
              "1  Рейтинговые оценки зарубежных авиакосмических ...   \n",
              "2  Применение модифицированного связующего для из...   \n",
              "3  Зависимость состава и обилия видов растений от...   \n",
              "4  Российский и международный опыт реализации про...   \n",
              "\n",
              "                                             ref_txt  \\\n",
              "0  Методами тензиометрии и динамического рассеяни...   \n",
              "1  Рассмотрена возможность применения матричного ...   \n",
              "2  Рассмотрены свойства и режимы прессования древ...   \n",
              "3  По данным полевых исследований 1996 2010 гг  в...   \n",
              "4  Проблема выявления врожденной тугоухости не те...   \n",
              "\n",
              "                                             kw_list  \n",
              "0  агрегация\\каликсрезорцины\\каталитические свойс...  \n",
              "1  Россия\\авиакосмическая отрасль\\авиастроение\\де...  \n",
              "2  и карбамидоформальдегидные как основа модифици...  \n",
              "3  леса сосновые лесные почвы растительность лесн...  \n",
              "4  аудиологический скрининг врожденная тугоухость...  "
            ],
            "text/html": [
              "\n",
              "  <div id=\"df-fd3c5253-cd6c-478c-80ed-3473285619c5\">\n",
              "    <div class=\"colab-df-container\">\n",
              "      <div>\n",
              "<style scoped>\n",
              "    .dataframe tbody tr th:only-of-type {\n",
              "        vertical-align: middle;\n",
              "    }\n",
              "\n",
              "    .dataframe tbody tr th {\n",
              "        vertical-align: top;\n",
              "    }\n",
              "\n",
              "    .dataframe thead th {\n",
              "        text-align: right;\n",
              "    }\n",
              "</style>\n",
              "<table border=\"1\" class=\"dataframe\">\n",
              "  <thead>\n",
              "    <tr style=\"text-align: right;\">\n",
              "      <th></th>\n",
              "      <th>Unnamed: 0</th>\n",
              "      <th>Unnamed: 0.1</th>\n",
              "      <th>title</th>\n",
              "      <th>ref_txt</th>\n",
              "      <th>kw_list</th>\n",
              "    </tr>\n",
              "  </thead>\n",
              "  <tbody>\n",
              "    <tr>\n",
              "      <th>0</th>\n",
              "      <td>0</td>\n",
              "      <td>301268</td>\n",
              "      <td>Супрамолекулярные системы на основе полиэтилен...</td>\n",
              "      <td>Методами тензиометрии и динамического рассеяни...</td>\n",
              "      <td>агрегация\\каликсрезорцины\\каталитические свойс...</td>\n",
              "    </tr>\n",
              "    <tr>\n",
              "      <th>1</th>\n",
              "      <td>1</td>\n",
              "      <td>209251</td>\n",
              "      <td>Рейтинговые оценки зарубежных авиакосмических ...</td>\n",
              "      <td>Рассмотрена возможность применения матричного ...</td>\n",
              "      <td>Россия\\авиакосмическая отрасль\\авиастроение\\де...</td>\n",
              "    </tr>\n",
              "    <tr>\n",
              "      <th>2</th>\n",
              "      <td>2</td>\n",
              "      <td>278388</td>\n",
              "      <td>Применение модифицированного связующего для из...</td>\n",
              "      <td>Рассмотрены свойства и режимы прессования древ...</td>\n",
              "      <td>и карбамидоформальдегидные как основа модифици...</td>\n",
              "    </tr>\n",
              "    <tr>\n",
              "      <th>3</th>\n",
              "      <td>3</td>\n",
              "      <td>301787</td>\n",
              "      <td>Зависимость состава и обилия видов растений от...</td>\n",
              "      <td>По данным полевых исследований 1996 2010 гг  в...</td>\n",
              "      <td>леса сосновые лесные почвы растительность лесн...</td>\n",
              "    </tr>\n",
              "    <tr>\n",
              "      <th>4</th>\n",
              "      <td>4</td>\n",
              "      <td>255697</td>\n",
              "      <td>Российский и международный опыт реализации про...</td>\n",
              "      <td>Проблема выявления врожденной тугоухости не те...</td>\n",
              "      <td>аудиологический скрининг врожденная тугоухость...</td>\n",
              "    </tr>\n",
              "  </tbody>\n",
              "</table>\n",
              "</div>\n",
              "      <button class=\"colab-df-convert\" onclick=\"convertToInteractive('df-fd3c5253-cd6c-478c-80ed-3473285619c5')\"\n",
              "              title=\"Convert this dataframe to an interactive table.\"\n",
              "              style=\"display:none;\">\n",
              "        \n",
              "  <svg xmlns=\"http://www.w3.org/2000/svg\" height=\"24px\"viewBox=\"0 0 24 24\"\n",
              "       width=\"24px\">\n",
              "    <path d=\"M0 0h24v24H0V0z\" fill=\"none\"/>\n",
              "    <path d=\"M18.56 5.44l.94 2.06.94-2.06 2.06-.94-2.06-.94-.94-2.06-.94 2.06-2.06.94zm-11 1L8.5 8.5l.94-2.06 2.06-.94-2.06-.94L8.5 2.5l-.94 2.06-2.06.94zm10 10l.94 2.06.94-2.06 2.06-.94-2.06-.94-.94-2.06-.94 2.06-2.06.94z\"/><path d=\"M17.41 7.96l-1.37-1.37c-.4-.4-.92-.59-1.43-.59-.52 0-1.04.2-1.43.59L10.3 9.45l-7.72 7.72c-.78.78-.78 2.05 0 2.83L4 21.41c.39.39.9.59 1.41.59.51 0 1.02-.2 1.41-.59l7.78-7.78 2.81-2.81c.8-.78.8-2.07 0-2.86zM5.41 20L4 18.59l7.72-7.72 1.47 1.35L5.41 20z\"/>\n",
              "  </svg>\n",
              "      </button>\n",
              "      \n",
              "  <style>\n",
              "    .colab-df-container {\n",
              "      display:flex;\n",
              "      flex-wrap:wrap;\n",
              "      gap: 12px;\n",
              "    }\n",
              "\n",
              "    .colab-df-convert {\n",
              "      background-color: #E8F0FE;\n",
              "      border: none;\n",
              "      border-radius: 50%;\n",
              "      cursor: pointer;\n",
              "      display: none;\n",
              "      fill: #1967D2;\n",
              "      height: 32px;\n",
              "      padding: 0 0 0 0;\n",
              "      width: 32px;\n",
              "    }\n",
              "\n",
              "    .colab-df-convert:hover {\n",
              "      background-color: #E2EBFA;\n",
              "      box-shadow: 0px 1px 2px rgba(60, 64, 67, 0.3), 0px 1px 3px 1px rgba(60, 64, 67, 0.15);\n",
              "      fill: #174EA6;\n",
              "    }\n",
              "\n",
              "    [theme=dark] .colab-df-convert {\n",
              "      background-color: #3B4455;\n",
              "      fill: #D2E3FC;\n",
              "    }\n",
              "\n",
              "    [theme=dark] .colab-df-convert:hover {\n",
              "      background-color: #434B5C;\n",
              "      box-shadow: 0px 1px 3px 1px rgba(0, 0, 0, 0.15);\n",
              "      filter: drop-shadow(0px 1px 2px rgba(0, 0, 0, 0.3));\n",
              "      fill: #FFFFFF;\n",
              "    }\n",
              "  </style>\n",
              "\n",
              "      <script>\n",
              "        const buttonEl =\n",
              "          document.querySelector('#df-fd3c5253-cd6c-478c-80ed-3473285619c5 button.colab-df-convert');\n",
              "        buttonEl.style.display =\n",
              "          google.colab.kernel.accessAllowed ? 'block' : 'none';\n",
              "\n",
              "        async function convertToInteractive(key) {\n",
              "          const element = document.querySelector('#df-fd3c5253-cd6c-478c-80ed-3473285619c5');\n",
              "          const dataTable =\n",
              "            await google.colab.kernel.invokeFunction('convertToInteractive',\n",
              "                                                     [key], {});\n",
              "          if (!dataTable) return;\n",
              "\n",
              "          const docLinkHtml = 'Like what you see? Visit the ' +\n",
              "            '<a target=\"_blank\" href=https://colab.research.google.com/notebooks/data_table.ipynb>data table notebook</a>'\n",
              "            + ' to learn more about interactive tables.';\n",
              "          element.innerHTML = '';\n",
              "          dataTable['output_type'] = 'display_data';\n",
              "          await google.colab.output.renderOutput(dataTable, element);\n",
              "          const docLink = document.createElement('div');\n",
              "          docLink.innerHTML = docLinkHtml;\n",
              "          element.appendChild(docLink);\n",
              "        }\n",
              "      </script>\n",
              "    </div>\n",
              "  </div>\n",
              "  "
            ]
          },
          "metadata": {},
          "execution_count": 14
        }
      ]
    }
  ],
  "metadata": {
    "kernelspec": {
      "display_name": "Python 3",
      "language": "python",
      "name": "python3"
    },
    "language_info": {
      "codemirror_mode": {
        "name": "ipython",
        "version": 3
      },
      "file_extension": ".py",
      "mimetype": "text/x-python",
      "name": "python",
      "nbconvert_exporter": "python",
      "pygments_lexer": "ipython3",
      "version": "3.8.8"
    },
    "colab": {
      "name": "scibert_ru_usage.ipynb",
      "provenance": [],
      "collapsed_sections": []
    }
  },
  "nbformat": 4,
  "nbformat_minor": 5
}